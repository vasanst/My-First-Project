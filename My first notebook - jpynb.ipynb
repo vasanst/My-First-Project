{
    "cells": [
        {
            "metadata": {
                "collapsed": true
            },
            "cell_type": "markdown",
            "source": "# My Jupyter Notebook on IBM Watson Studio"
        },
        {
            "metadata": {},
            "cell_type": "markdown",
            "source": "**Vasan S T**\n\n\nMy current job profile is Software Delivery.  I am very much interested in Data Science projects in future "
        },
        {
            "metadata": {},
            "cell_type": "markdown",
            "source": "_I am interested in Data Science because, I believe in the philosopy : In God we trust, while others must bring data !_"
        },
        {
            "metadata": {},
            "cell_type": "markdown",
            "source": "### The objective of this project is to execute and display the factorial of a given number in Python.\n\n### In the code cell provided below, in the last line, please enter the number for which you want to find the factorial "
        },
        {
            "metadata": {},
            "cell_type": "code",
            "source": "def return_factorial(n):\n    value = 1\n    if n < 0:\n       print(\"Please input positive integers only\")\n    elif n == 0:\n       print(\"The factorial of 0 is 1\")\n    else:\n       for i in range(1,n + 1):\n           value = value * i\n       print(\"The factorial of\",n,\"is\",value)\n\n#Provide the number within the paranthesis in the code segment below.  The program will display the factorial\nreturn_factorial(3)",
            "execution_count": 15,
            "outputs": [
                {
                    "output_type": "stream",
                    "text": "The factorial of 3 is 6\n",
                    "name": "stdout"
                }
            ]
        },
        {
            "metadata": {},
            "cell_type": "markdown",
            "source": "***\nUsage Samples\n***\n1. return_factorial(6)\n2. return_factorial(-4)\n\n\n<b>Thanks for trying out my project.  Hope you liked it.</b>\n<br>\n<img align=left height=50 width=50 src=\"https://cdn.icon-icons.com/icons2/1686/PNG/512/12008thumbsup_111446.png\">"
        }
    ],
    "metadata": {
        "kernelspec": {
            "name": "python3",
            "display_name": "Python 3.7",
            "language": "python"
        },
        "language_info": {
            "name": "python",
            "version": "3.7.9",
            "mimetype": "text/x-python",
            "codemirror_mode": {
                "name": "ipython",
                "version": 3
            },
            "pygments_lexer": "ipython3",
            "nbconvert_exporter": "python",
            "file_extension": ".py"
        }
    },
    "nbformat": 4,
    "nbformat_minor": 1
}